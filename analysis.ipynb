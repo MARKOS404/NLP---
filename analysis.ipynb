{
 "cells": [
  {
   "cell_type": "code",
   "execution_count": 4,
   "id": "dafa97bd",
   "metadata": {},
   "outputs": [
    {
     "name": "stderr",
     "output_type": "stream",
     "text": [
      "You are using the default legacy behaviour of the <class 'transformers.models.t5.tokenization_t5.T5Tokenizer'>. This is expected, and simply means that the `legacy` (previous) behavior will be used so nothing changes for you. If you want to use the new behaviour, set `legacy=False`. This should only be set if you understand what it means, and thoroughly read the reason why this was added as explained in https://github.com/huggingface/transformers/pull/24565\n",
      "Device set to use cpu\n",
      "Both `max_new_tokens` (=256) and `max_length`(=128) seem to have been set. `max_new_tokens` will take precedence. Please refer to the documentation for more information. (https://huggingface.co/docs/transformers/main/en/main_classes/text_generation)\n"
     ]
    },
    {
     "name": "stdout",
     "output_type": "stream",
     "text": [
      "Paraphrase: This is a test sentence for paraphrasing .\n"
     ]
    }
   ],
   "source": [
    "from transformers import pipeline\n",
    "\n",
    "paraphraser = pipeline(\n",
    "    \"text2text-generation\",\n",
    "    model=\"Vamsi/T5_Paraphrase_Paws\"\n",
    ")\n",
    "\n",
    "out = paraphraser(\n",
    "    \"This is a test sentence for paraphrasing.\",\n",
    "    max_length=128,\n",
    "    num_return_sequences=1\n",
    ")\n",
    "print(\"Paraphrase:\", out[0][\"generated_text\"])"
   ]
  },
  {
   "cell_type": "code",
   "execution_count": 5,
   "id": "6de18216",
   "metadata": {},
   "outputs": [],
   "source": [
    "from sentence_transformers import SentenceTransformer, util\n",
    "\n",
    "# Load a lightweight embedding model\n",
    "model = SentenceTransformer(\"all-MiniLM-L6-v2\")"
   ]
  },
  {
   "cell_type": "markdown",
   "id": "759af47b",
   "metadata": {},
   "source": [
    "### Encoding the sentences into tensors"
   ]
  },
  {
   "cell_type": "code",
   "execution_count": 6,
   "id": "8e85f485",
   "metadata": {},
   "outputs": [
    {
     "name": "stderr",
     "output_type": "stream",
     "text": [
      "c:\\Users\\marko\\anaconda3\\envs\\nlp_proj\\Lib\\site-packages\\torch\\nn\\modules\\module.py:1762: FutureWarning: `encoder_attention_mask` is deprecated and will be removed in version 4.55.0 for `BertSdpaSelfAttention.forward`.\n",
      "  return forward_call(*args, **kwargs)\n"
     ]
    }
   ],
   "source": [
    "original = \"This is a test sentence for paraphrasing.\"\n",
    "paraphrase = \"This is a test sentence for paraphrasing .\"\n",
    "\n",
    "emb_orig = model.encode(original, convert_to_tensor=True)\n",
    "emb_para = model.encode(paraphrase, convert_to_tensor=True)"
   ]
  },
  {
   "cell_type": "markdown",
   "id": "64ed81d1",
   "metadata": {},
   "source": [
    "### Computing cosine similarity"
   ]
  },
  {
   "cell_type": "code",
   "execution_count": 7,
   "id": "f25ecd60",
   "metadata": {},
   "outputs": [
    {
     "name": "stdout",
     "output_type": "stream",
     "text": [
      "Cosine similarity: 1.0000\n"
     ]
    }
   ],
   "source": [
    "score = util.pytorch_cos_sim(emb_orig, emb_para)\n",
    "print(f\"Cosine similarity: {score.item():.4f}\")"
   ]
  },
  {
   "cell_type": "markdown",
   "id": "f172f2b8",
   "metadata": {},
   "source": [
    "### Παραδοτέο 1Α\n",
    "- Κείμενο 1:\n",
    "\n",
    "     “Hope you too, to enjoy it as my deepest wishes.”\n",
    "\n",
    "- Κείμενο 2:\n",
    "\n",
    "     “I believe the team, although bit delay and less communication at recent days, they really tried best for paper and cooperation.”"
   ]
  },
  {
   "cell_type": "code",
   "execution_count": 8,
   "id": "66a8df01",
   "metadata": {},
   "outputs": [
    {
     "name": "stderr",
     "output_type": "stream",
     "text": [
      "Device set to use cpu\n"
     ]
    },
    {
     "name": "stdout",
     "output_type": "stream",
     "text": [
      "Orig 1: Hope you too, to enjoy it as my deepest wishes.\n",
      "Para 1: Hope you enjoy it as my deepest wishes too.\n",
      "\n",
      "Orig 2: I believe the team, although bit delay and less communication at recent days, they really tried best for paper and cooperation.\n",
      "Para 2: I believe the team, although a bit delayed and less communication in recent days, really tried for paper and cooperation best .\n"
     ]
    }
   ],
   "source": [
    "from transformers import pipeline\n",
    "\n",
    "# Pipeline 1: T5 Paraphrase PAWS\n",
    "paraphraser_1 = pipeline(\"text2text-generation\", model=\"Vamsi/T5_Paraphrase_Paws\")\n",
    "\n",
    "s1 = \"Hope you too, to enjoy it as my deepest wishes.\"\n",
    "s2 = \"I believe the team, although bit delay and less communication at recent days, they really tried best for paper and cooperation.\"\n",
    "\n",
    "out1 = paraphraser_1(s1, max_new_tokens=60, num_return_sequences=1)[0][\"generated_text\"]\n",
    "out2 = paraphraser_1(s2, max_new_tokens=80, num_return_sequences=1)[0][\"generated_text\"]\n",
    "\n",
    "print(\"Orig 1:\", s1)\n",
    "print(\"Para 1:\", out1)\n",
    "print()\n",
    "print(\"Orig 2:\", s2)\n",
    "print(\"Para 2:\", out2)"
   ]
  },
  {
   "cell_type": "markdown",
   "id": "4be0a7e5",
   "metadata": {},
   "source": [
    "### 1.B: Ανακατασκευή ολόκληρων κειμένων με 3 διαφορετικά pipelines\n",
    "\n",
    "Θα εφαρμόσουμε σε κάθε κείμενο:\n",
    "\n",
    "- T5 Paraphrase PAWS\n",
    "\n",
    "- T5 Paraphraser (ramsrigouthamg)\n",
    "\n",
    "- Back-translation (en→fr→en με T5-small)"
   ]
  },
  {
   "cell_type": "markdown",
   "id": "d3de3a4c",
   "metadata": {},
   "source": [
    "### Προετοιμασία pipelines"
   ]
  },
  {
   "cell_type": "code",
   "execution_count": 9,
   "id": "9ebee14e",
   "metadata": {},
   "outputs": [
    {
     "name": "stderr",
     "output_type": "stream",
     "text": [
      "Device set to use cpu\n",
      "Device set to use cpu\n",
      "Device set to use cpu\n"
     ]
    }
   ],
   "source": [
    "from transformers import pipeline\n",
    "\n",
    "# 1) T5 Paraphrase PAWS\n",
    "paws = pipeline(\"text2text-generation\", model=\"Vamsi/T5_Paraphrase_Paws\",\n",
    "                num_beams=5, num_return_sequences=1, max_new_tokens=300)\n",
    "\n",
    "# 2) BART Paraphrase\n",
    "bart_para = pipeline(\"text2text-generation\", model=\"eugenesiow/bart-paraphrase\",\n",
    "                     num_beams=5, num_return_sequences=1, max_new_tokens=300)\n",
    "\n",
    "# 3) DistilBART Summarization (lighter alternative to Pegasus)\n",
    "pegasus = pipeline(\"summarization\", model=\"sshleifer/distilbart-cnn-12-6\",\n",
    "                   max_length=300, min_length=100)\n",
    "\n",
    "pipelines = [\n",
    "    (\"T5-PAWS\", paws),\n",
    "    (\"BART-Para\", bart_para),\n",
    "    (\"DistilBART-Sum\", pegasus)\n",
    "]\n"
   ]
  },
  {
   "cell_type": "markdown",
   "id": "5badcddd",
   "metadata": {},
   "source": [
    "### Ορισμός των πλήρων κειμένων"
   ]
  },
  {
   "cell_type": "code",
   "execution_count": 10,
   "id": "99e8cd11",
   "metadata": {},
   "outputs": [],
   "source": [
    "text1 = \"\"\"\n",
    "Today is our dragon boat festival, in our Chinese culture, to celebrate it with all safe and great in\n",
    "our lives. Hope you too, to enjoy it as my deepest wishes.\n",
    "Thank your message to show our words to the doctor, as his next contract checking, to all of us.\n",
    "I got this message to see the approved message. In fact, I have received the message from the\n",
    "professor, to show me, this, a couple of days ago. I am very appreciated the full support of the\n",
    "professor, for our Springer proceedings publication\n",
    "\"\"\"\n",
    "\n",
    "text2 = \"\"\"\n",
    "During our final discuss, I told him about the new submission — the one we were waiting since\n",
    "last autumn, but the updates was confusing as it not included the full feedback from reviewer or\n",
    "maybe editor?\n",
    "Anyway, I believe the team, although bit delay and less communication at recent days, they really\n",
    "tried best for paper and cooperation. We should be grateful, I mean all of us, for the acceptance\n",
    "and efforts until the Springer link came finally last week, I think.\n",
    "Also, kindly remind me please, if the doctor still plan for the acknowledgments section edit before\n",
    "he sending again. Because I didn’t see that part final yet, or maybe I missed, I apologize if so.\n",
    "Overall, let us make sure all are safe and celebrate the outcome with strong coffee and future\n",
    "targets\n",
    "\"\"\""
   ]
  },
  {
   "cell_type": "markdown",
   "id": "88b930f1",
   "metadata": {},
   "source": [
    "### Εφαρμογή των pipelines και αποθήκευση των αποτελεσμάτων"
   ]
  },
  {
   "cell_type": "code",
   "execution_count": 11,
   "id": "051cf051",
   "metadata": {},
   "outputs": [
    {
     "name": "stdout",
     "output_type": "stream",
     "text": [
      "\n",
      "--- T5-PAWS on Text1 ---\n",
      "Today is our dragon boat festival in our Chinese culture to celebrate it with all safe and great in our lives. Hope you too, to enjoy it as my deepest wishes. I got this message to see the approved message from the professor a couple of days ago . I am very appreciated the full support of the profes...\n",
      "\n",
      "\n",
      "--- T5-PAWS on Text2 ---\n",
      "During our final discussion, I told him about the new submission — the one we were waiting for since last autumn , but the updates was confusing as it did not include the full feedback from reviewer or maybe editor? Anyway, I think the team really tried best for paper and cooperation until the Sprin...\n",
      "\n",
      "\n",
      "--- BART-Para on Text1 ---\n",
      "Today is our dragon boat festival, in our Chinese culture, to celebrate it with all safe and great in our lives. I am very appreciated the full support of the physicist, for our Springer proceedings publication....\n",
      "\n",
      "\n",
      "--- BART-Para on Text2 ---\n"
     ]
    },
    {
     "name": "stderr",
     "output_type": "stream",
     "text": [
      "Your max_length is set to 142, but your input_length is only 120. Since this is a summarization task, where outputs shorter than the input are typically wanted, you might consider decreasing max_length manually, e.g. summarizer('...', max_length=60)\n"
     ]
    },
    {
     "name": "stdout",
     "output_type": "stream",
     "text": [
      "During our final discuss, I told him about the new submission. We should be grateful, I mean all of us, for the acceptance efforts until the Springer link came finally last week, but the updates was confusing as it not included the full feedback from the reviewer or the editor. Because I didn’t see ...\n",
      "\n",
      "\n",
      "--- DistilBART-Sum on Text1 ---\n",
      " It is our dragon boat festival, in our Chinese culture, to celebrate it with all safe and great in our lives, hope you too, to enjoy it as my deepest wishes . The doctor's next contract checking, to all of us, is his next contract check-up ....\n",
      "\n",
      "\n",
      "--- DistilBART-Sum on Text2 ---\n",
      " The Springer link came finally last week, I think. We should be grateful, I mean all of us, for the acceptance efforts . I believe the team, although bit delay and less communication at recent days, they really tried best for paper and cooperation. I apologize if so, please remind me please, if the...\n",
      "\n"
     ]
    }
   ],
   "source": [
    "pipelines = [\n",
    "    (\"T5-PAWS\", paws),\n",
    "    (\"BART-Para\", bart_para),\n",
    "    (\"DistilBART-Sum\", pegasus)   # εδώ pegasus είναι το ssheifer/distilbart-cnn-12-6\n",
    "]\n",
    "\n",
    "results = {}\n",
    "\n",
    "for name, fn in pipelines:\n",
    "    for label, txt in [(\"Text1\", text1), (\"Text2\", text2)]:\n",
    "        print(f\"\\n--- {name} on {label} ---\")\n",
    "        out = fn(txt)\n",
    "        # Όλα αυτά τα pipelines επιστρέφουν λίστα dicts\n",
    "        first = out[0]\n",
    "        # Η key είναι είτε generated_text είτε summary_text\n",
    "        para = first.get(\"generated_text\") or first.get(\"summary_text\")\n",
    "        results[(name, label)] = para\n",
    "        print(para[:300] + \"...\\n\")\n"
   ]
  },
  {
   "cell_type": "markdown",
   "id": "7e39d5d3",
   "metadata": {},
   "source": [
    "### 1.C: Σύγκριση με cosine similarity"
   ]
  },
  {
   "cell_type": "markdown",
   "id": "11f44409",
   "metadata": {},
   "source": [
    "1. Φόρτωση embedding μοντέλου"
   ]
  },
  {
   "cell_type": "code",
   "execution_count": 12,
   "id": "2a044b87",
   "metadata": {},
   "outputs": [],
   "source": [
    "from sentence_transformers import SentenceTransformer, util\n",
    "\n",
    "embedder = SentenceTransformer(\"all-MiniLM-L6-v2\")\n"
   ]
  },
  {
   "cell_type": "markdown",
   "id": "3ed9c7fa",
   "metadata": {},
   "source": [
    "2. Υπολογισμός similarity για κάθε ζεύγος"
   ]
  },
  {
   "cell_type": "code",
   "execution_count": 13,
   "id": "781dbfcd",
   "metadata": {},
   "outputs": [],
   "source": [
    "comparisons = []\n",
    "for (pipe, label), paraphrased in results.items():\n",
    "    original = text1 if label==\"Text1\" else text2\n",
    "    # Encode\n",
    "    emb_o = embedder.encode(original, convert_to_tensor=True)\n",
    "    emb_p = embedder.encode(paraphrased, convert_to_tensor=True)\n",
    "    # Cosine\n",
    "    score = util.pytorch_cos_sim(emb_o, emb_p).item()\n",
    "    comparisons.append({\n",
    "        \"Pipeline\": pipe,\n",
    "        \"Text\": label,\n",
    "        \"Cosine\": round(score, 4)\n",
    "    })\n"
   ]
  },
  {
   "cell_type": "markdown",
   "id": "5a85fcbd",
   "metadata": {},
   "source": [
    "3. Δημιουργία DataFrame και εμφάνιση"
   ]
  },
  {
   "cell_type": "code",
   "execution_count": 14,
   "id": "8f220ac1",
   "metadata": {},
   "outputs": [
    {
     "data": {
      "text/html": [
       "<div>\n",
       "<style scoped>\n",
       "    .dataframe tbody tr th:only-of-type {\n",
       "        vertical-align: middle;\n",
       "    }\n",
       "\n",
       "    .dataframe tbody tr th {\n",
       "        vertical-align: top;\n",
       "    }\n",
       "\n",
       "    .dataframe thead th {\n",
       "        text-align: right;\n",
       "    }\n",
       "</style>\n",
       "<table border=\"1\" class=\"dataframe\">\n",
       "  <thead>\n",
       "    <tr style=\"text-align: right;\">\n",
       "      <th></th>\n",
       "      <th>Pipeline</th>\n",
       "      <th>Text</th>\n",
       "      <th>Cosine</th>\n",
       "    </tr>\n",
       "  </thead>\n",
       "  <tbody>\n",
       "    <tr>\n",
       "      <th>0</th>\n",
       "      <td>T5-PAWS</td>\n",
       "      <td>Text1</td>\n",
       "      <td>0.9034</td>\n",
       "    </tr>\n",
       "    <tr>\n",
       "      <th>1</th>\n",
       "      <td>T5-PAWS</td>\n",
       "      <td>Text2</td>\n",
       "      <td>0.9583</td>\n",
       "    </tr>\n",
       "    <tr>\n",
       "      <th>2</th>\n",
       "      <td>BART-Para</td>\n",
       "      <td>Text1</td>\n",
       "      <td>0.6887</td>\n",
       "    </tr>\n",
       "    <tr>\n",
       "      <th>3</th>\n",
       "      <td>BART-Para</td>\n",
       "      <td>Text2</td>\n",
       "      <td>0.7839</td>\n",
       "    </tr>\n",
       "    <tr>\n",
       "      <th>4</th>\n",
       "      <td>DistilBART-Sum</td>\n",
       "      <td>Text1</td>\n",
       "      <td>0.8349</td>\n",
       "    </tr>\n",
       "    <tr>\n",
       "      <th>5</th>\n",
       "      <td>DistilBART-Sum</td>\n",
       "      <td>Text2</td>\n",
       "      <td>0.8852</td>\n",
       "    </tr>\n",
       "  </tbody>\n",
       "</table>\n",
       "</div>"
      ],
      "text/plain": [
       "         Pipeline   Text  Cosine\n",
       "0         T5-PAWS  Text1  0.9034\n",
       "1         T5-PAWS  Text2  0.9583\n",
       "2       BART-Para  Text1  0.6887\n",
       "3       BART-Para  Text2  0.7839\n",
       "4  DistilBART-Sum  Text1  0.8349\n",
       "5  DistilBART-Sum  Text2  0.8852"
      ]
     },
     "metadata": {},
     "output_type": "display_data"
    }
   ],
   "source": [
    "import pandas as pd\n",
    "df = pd.DataFrame(comparisons)\n",
    "display(df)\n"
   ]
  },
  {
   "cell_type": "markdown",
   "id": "e3df4625",
   "metadata": {},
   "source": [
    "## Μέρος 2 εργασίας:"
   ]
  },
  {
   "cell_type": "markdown",
   "id": "fb537e27",
   "metadata": {},
   "source": [
    "\n",
    "\n",
    "- Ορίζουμε το preprocessing (lowercase, αφαίρεση στίξης, tokenization)\n",
    "\n",
    "- Υπολογίζουμε tokens & vocabulary\n",
    "\n",
    "- Παίρνουμε στατιστικά (συνολικός αριθμός tokens, μοναδικά tokens)\n",
    "\n",
    "- Προβολή δειγμάτων"
   ]
  },
  {
   "cell_type": "code",
   "execution_count": 15,
   "id": "12a36bb1",
   "metadata": {},
   "outputs": [
    {
     "data": {
      "text/html": [
       "<div>\n",
       "<style scoped>\n",
       "    .dataframe tbody tr th:only-of-type {\n",
       "        vertical-align: middle;\n",
       "    }\n",
       "\n",
       "    .dataframe tbody tr th {\n",
       "        vertical-align: top;\n",
       "    }\n",
       "\n",
       "    .dataframe thead th {\n",
       "        text-align: right;\n",
       "    }\n",
       "</style>\n",
       "<table border=\"1\" class=\"dataframe\">\n",
       "  <thead>\n",
       "    <tr style=\"text-align: right;\">\n",
       "      <th></th>\n",
       "      <th>Text</th>\n",
       "      <th>Total Tokens</th>\n",
       "      <th>Unique Tokens</th>\n",
       "    </tr>\n",
       "  </thead>\n",
       "  <tbody>\n",
       "    <tr>\n",
       "      <th>0</th>\n",
       "      <td>Text1</td>\n",
       "      <td>93</td>\n",
       "      <td>63</td>\n",
       "    </tr>\n",
       "    <tr>\n",
       "      <th>1</th>\n",
       "      <td>Text2</td>\n",
       "      <td>136</td>\n",
       "      <td>107</td>\n",
       "    </tr>\n",
       "  </tbody>\n",
       "</table>\n",
       "</div>"
      ],
      "text/plain": [
       "    Text  Total Tokens  Unique Tokens\n",
       "0  Text1            93             63\n",
       "1  Text2           136            107"
      ]
     },
     "metadata": {},
     "output_type": "display_data"
    },
    {
     "data": {
      "text/html": [
       "<div>\n",
       "<style scoped>\n",
       "    .dataframe tbody tr th:only-of-type {\n",
       "        vertical-align: middle;\n",
       "    }\n",
       "\n",
       "    .dataframe tbody tr th {\n",
       "        vertical-align: top;\n",
       "    }\n",
       "\n",
       "    .dataframe thead th {\n",
       "        text-align: right;\n",
       "    }\n",
       "</style>\n",
       "<table border=\"1\" class=\"dataframe\">\n",
       "  <thead>\n",
       "    <tr style=\"text-align: right;\">\n",
       "      <th></th>\n",
       "      <th>Text1 Tokens</th>\n",
       "      <th>Text2 Tokens</th>\n",
       "    </tr>\n",
       "  </thead>\n",
       "  <tbody>\n",
       "    <tr>\n",
       "      <th>0</th>\n",
       "      <td>a</td>\n",
       "      <td>about</td>\n",
       "    </tr>\n",
       "    <tr>\n",
       "      <th>1</th>\n",
       "      <td>ago</td>\n",
       "      <td>acceptance</td>\n",
       "    </tr>\n",
       "    <tr>\n",
       "      <th>2</th>\n",
       "      <td>all</td>\n",
       "      <td>acknowledgments</td>\n",
       "    </tr>\n",
       "    <tr>\n",
       "      <th>3</th>\n",
       "      <td>am</td>\n",
       "      <td>again</td>\n",
       "    </tr>\n",
       "    <tr>\n",
       "      <th>4</th>\n",
       "      <td>and</td>\n",
       "      <td>all</td>\n",
       "    </tr>\n",
       "    <tr>\n",
       "      <th>5</th>\n",
       "      <td>appreciated</td>\n",
       "      <td>also</td>\n",
       "    </tr>\n",
       "    <tr>\n",
       "      <th>6</th>\n",
       "      <td>approved</td>\n",
       "      <td>although</td>\n",
       "    </tr>\n",
       "    <tr>\n",
       "      <th>7</th>\n",
       "      <td>as</td>\n",
       "      <td>and</td>\n",
       "    </tr>\n",
       "    <tr>\n",
       "      <th>8</th>\n",
       "      <td>boat</td>\n",
       "      <td>anyway</td>\n",
       "    </tr>\n",
       "    <tr>\n",
       "      <th>9</th>\n",
       "      <td>celebrate</td>\n",
       "      <td>apologize</td>\n",
       "    </tr>\n",
       "    <tr>\n",
       "      <th>10</th>\n",
       "      <td>checking</td>\n",
       "      <td>are</td>\n",
       "    </tr>\n",
       "    <tr>\n",
       "      <th>11</th>\n",
       "      <td>chinese</td>\n",
       "      <td>as</td>\n",
       "    </tr>\n",
       "    <tr>\n",
       "      <th>12</th>\n",
       "      <td>contract</td>\n",
       "      <td>at</td>\n",
       "    </tr>\n",
       "    <tr>\n",
       "      <th>13</th>\n",
       "      <td>couple</td>\n",
       "      <td>autumn</td>\n",
       "    </tr>\n",
       "    <tr>\n",
       "      <th>14</th>\n",
       "      <td>culture</td>\n",
       "      <td>be</td>\n",
       "    </tr>\n",
       "    <tr>\n",
       "      <th>15</th>\n",
       "      <td>days</td>\n",
       "      <td>because</td>\n",
       "    </tr>\n",
       "    <tr>\n",
       "      <th>16</th>\n",
       "      <td>deepest</td>\n",
       "      <td>before</td>\n",
       "    </tr>\n",
       "    <tr>\n",
       "      <th>17</th>\n",
       "      <td>doctor</td>\n",
       "      <td>believe</td>\n",
       "    </tr>\n",
       "    <tr>\n",
       "      <th>18</th>\n",
       "      <td>dragon</td>\n",
       "      <td>best</td>\n",
       "    </tr>\n",
       "    <tr>\n",
       "      <th>19</th>\n",
       "      <td>enjoy</td>\n",
       "      <td>bit</td>\n",
       "    </tr>\n",
       "    <tr>\n",
       "      <th>20</th>\n",
       "      <td>...</td>\n",
       "      <td>...</td>\n",
       "    </tr>\n",
       "  </tbody>\n",
       "</table>\n",
       "</div>"
      ],
      "text/plain": [
       "   Text1 Tokens     Text2 Tokens\n",
       "0             a            about\n",
       "1           ago       acceptance\n",
       "2           all  acknowledgments\n",
       "3            am            again\n",
       "4           and              all\n",
       "5   appreciated             also\n",
       "6      approved         although\n",
       "7            as              and\n",
       "8          boat           anyway\n",
       "9     celebrate        apologize\n",
       "10     checking              are\n",
       "11      chinese               as\n",
       "12     contract               at\n",
       "13       couple           autumn\n",
       "14      culture               be\n",
       "15         days          because\n",
       "16      deepest           before\n",
       "17       doctor          believe\n",
       "18       dragon             best\n",
       "19        enjoy              bit\n",
       "20          ...              ..."
      ]
     },
     "metadata": {},
     "output_type": "display_data"
    }
   ],
   "source": [
    "import re\n",
    "import string\n",
    "import pandas as pd\n",
    "\n",
    "\n",
    "def preprocess_simple(text):\n",
    "    t = text.lower()\n",
    "    # αντικαθιστούμε όλα τα σημεία στίξης με κενό\n",
    "    t = re.sub(f\"[{re.escape(string.punctuation)}]\", \" \", t)\n",
    "    # split σε whitespace\n",
    "    return t.split()\n",
    "\n",
    "# Εφαρμογή\n",
    "tokens1 = preprocess_simple(text1)\n",
    "tokens2 = preprocess_simple(text2)\n",
    "\n",
    "# Λεξικό (vocabulary)\n",
    "vocab1 = sorted(set(tokens1))\n",
    "vocab2 = sorted(set(tokens2))\n",
    "\n",
    "# DataFrame με στατιστικά\n",
    "df_summary = pd.DataFrame([\n",
    "    {\"Text\": \"Text1\", \"Total Tokens\": len(tokens1), \"Unique Tokens\": len(vocab1)},\n",
    "    {\"Text\": \"Text2\", \"Total Tokens\": len(tokens2), \"Unique Tokens\": len(vocab2)}\n",
    "])\n",
    "display(df_summary)\n",
    "\n",
    "# Δείγμα tokens\n",
    "df_tokens = pd.DataFrame({\n",
    "    \"Text1 Tokens\": vocab1[:20] + [\"...\"],\n",
    "    \"Text2 Tokens\": vocab2[:20] + [\"...\"]\n",
    "})\n",
    "display(df_tokens)"
   ]
  },
  {
   "cell_type": "markdown",
   "id": "5b5b3bd7",
   "metadata": {},
   "source": [
    "Φόρτωση BERT model & tokenizer"
   ]
  },
  {
   "cell_type": "code",
   "execution_count": 16,
   "id": "1df78cbb",
   "metadata": {},
   "outputs": [],
   "source": [
    "from transformers import AutoTokenizer, AutoModel\n",
    "import torch\n",
    "import torch.nn.functional as F\n",
    "import string\n",
    "import pandas as pd\n",
    "\n",
    "# Φόρτωση BERT model\n",
    "tokenizer = AutoTokenizer.from_pretrained(\"bert-base-uncased\")\n",
    "model     = AutoModel.from_pretrained(\"bert-base-uncased\")\n"
   ]
  },
  {
   "cell_type": "markdown",
   "id": "6208ec06",
   "metadata": {},
   "source": [
    " Preprocessing & Embed Helpers"
   ]
  },
  {
   "cell_type": "code",
   "execution_count": 17,
   "id": "f2983884",
   "metadata": {},
   "outputs": [],
   "source": [
    "def preprocess(text):\n",
    "    t = text.lower().replace(\"’\", \"'\")\n",
    "    t = t.translate(str.maketrans(\"\", \"\", string.punctuation))\n",
    "    return t.split()\n",
    "\n",
    "def embed_word(word: str) -> torch.Tensor:\n",
    "    inputs  = tokenizer(word, return_tensors=\"pt\")\n",
    "    outputs = model(**inputs)\n",
    "    # mean-pool token embeddings\n",
    "    return outputs.last_hidden_state.mean(dim=1).squeeze(0)\n",
    "\n",
    "def word_level_sims(orig_tokens, para_tokens):\n",
    "    sims = []\n",
    "    for i, (w1, w2) in enumerate(zip(orig_tokens, para_tokens), start=1):\n",
    "        emb1  = embed_word(w1)\n",
    "        emb2  = embed_word(w2)\n",
    "        score = F.cosine_similarity(emb1, emb2, dim=0).item()\n",
    "        sims.append({\n",
    "            \"Pair_Label\":  None,   # θα το συμπληρώσουμε μετά\n",
    "            \"Position\":    i,\n",
    "            \"Word1\":       w1,\n",
    "            \"Word2\":       w2,\n",
    "            \"Cosine\":      round(score, 4)\n",
    "        })\n",
    "    return sims"
   ]
  },
  {
   "cell_type": "markdown",
   "id": "02028bed",
   "metadata": {},
   "source": [
    "Ορισμός ζευγών κειμένων"
   ]
  },
  {
   "cell_type": "code",
   "execution_count": 18,
   "id": "8068c9af",
   "metadata": {},
   "outputs": [],
   "source": [
    "pairs = {\n",
    "    # 1.A\n",
    "    \"A_S1\": ( \n",
    "        \"Hope you too, to enjoy it as my deepest wishes.\", \n",
    "        \"I sincerely hope you’re enjoying it just as much as I wish.\" \n",
    "    ),\n",
    "    \"A_S2\": ( \n",
    "        \"I believe the team, although bit delay … cooperation.\", \n",
    "        \"Despite some delays and sparse communication … effort on the paper.\" \n",
    "    ),\n",
    "    # 1.B Text1\n",
    "    \"B1_T5-PAWS\":    (text1, results[(\"T5-PAWS\",    \"Text1\")]),\n",
    "    \"B1_BART-Para\":  (text1, results[(\"BART-Para\",  \"Text1\")]),\n",
    "    \"B1_DistilBART\": (text1, results[(\"DistilBART-Sum\",\"Text1\")]),\n",
    "    # 1.B Text2\n",
    "    \"B2_T5-PAWS\":    (text2, results[(\"T5-PAWS\",    \"Text2\")]),\n",
    "    \"B2_BART-Para\":  (text2, results[(\"BART-Para\",  \"Text2\")]),\n",
    "    \"B2_DistilBART\": (text2, results[(\"DistilBART-Sum\",\"Text2\")]),\n",
    "}"
   ]
  },
  {
   "cell_type": "markdown",
   "id": "75d3e65c",
   "metadata": {},
   "source": [
    "Υπολογισμοί & Συλλογή Αποτελεσμάτων"
   ]
  },
  {
   "cell_type": "code",
   "execution_count": 19,
   "id": "5ea81f82",
   "metadata": {},
   "outputs": [
    {
     "name": "stderr",
     "output_type": "stream",
     "text": [
      "c:\\Users\\marko\\anaconda3\\envs\\nlp_proj\\Lib\\site-packages\\torch\\nn\\modules\\module.py:1762: FutureWarning: `encoder_attention_mask` is deprecated and will be removed in version 4.55.0 for `BertSdpaSelfAttention.forward`.\n",
      "  return forward_call(*args, **kwargs)\n"
     ]
    }
   ],
   "source": [
    "all_comparisons = []\n",
    "for label, (orig, para) in pairs.items():\n",
    "    orig_toks = preprocess(orig)\n",
    "    para_toks = preprocess(para)\n",
    "    sims      = word_level_sims(orig_toks, para_toks)\n",
    "    # βάζουμε το Pair_Label\n",
    "    for row in sims:\n",
    "        row[\"Pair_Label\"] = label\n",
    "    all_comparisons.extend(sims)\n",
    "\n",
    "df_all = pd.DataFrame(all_comparisons)"
   ]
  },
  {
   "cell_type": "code",
   "execution_count": 20,
   "id": "8991602f",
   "metadata": {},
   "outputs": [
    {
     "data": {
      "text/html": [
       "<div>\n",
       "<style scoped>\n",
       "    .dataframe tbody tr th:only-of-type {\n",
       "        vertical-align: middle;\n",
       "    }\n",
       "\n",
       "    .dataframe tbody tr th {\n",
       "        vertical-align: top;\n",
       "    }\n",
       "\n",
       "    .dataframe thead th {\n",
       "        text-align: right;\n",
       "    }\n",
       "</style>\n",
       "<table border=\"1\" class=\"dataframe\">\n",
       "  <thead>\n",
       "    <tr style=\"text-align: right;\">\n",
       "      <th></th>\n",
       "      <th>Pair_Label</th>\n",
       "      <th>Avg_Cosine</th>\n",
       "    </tr>\n",
       "  </thead>\n",
       "  <tbody>\n",
       "    <tr>\n",
       "      <th>0</th>\n",
       "      <td>A_S1</td>\n",
       "      <td>0.857180</td>\n",
       "    </tr>\n",
       "    <tr>\n",
       "      <th>1</th>\n",
       "      <td>A_S2</td>\n",
       "      <td>0.772167</td>\n",
       "    </tr>\n",
       "    <tr>\n",
       "      <th>2</th>\n",
       "      <td>B1_BART-Para</td>\n",
       "      <td>0.917756</td>\n",
       "    </tr>\n",
       "    <tr>\n",
       "      <th>3</th>\n",
       "      <td>B1_DistilBART</td>\n",
       "      <td>0.927782</td>\n",
       "    </tr>\n",
       "    <tr>\n",
       "      <th>4</th>\n",
       "      <td>B1_T5-PAWS</td>\n",
       "      <td>0.906927</td>\n",
       "    </tr>\n",
       "    <tr>\n",
       "      <th>5</th>\n",
       "      <td>B2_BART-Para</td>\n",
       "      <td>0.835142</td>\n",
       "    </tr>\n",
       "    <tr>\n",
       "      <th>6</th>\n",
       "      <td>B2_DistilBART</td>\n",
       "      <td>0.789992</td>\n",
       "    </tr>\n",
       "    <tr>\n",
       "      <th>7</th>\n",
       "      <td>B2_T5-PAWS</td>\n",
       "      <td>0.828504</td>\n",
       "    </tr>\n",
       "  </tbody>\n",
       "</table>\n",
       "</div>"
      ],
      "text/plain": [
       "      Pair_Label  Avg_Cosine\n",
       "0           A_S1    0.857180\n",
       "1           A_S2    0.772167\n",
       "2   B1_BART-Para    0.917756\n",
       "3  B1_DistilBART    0.927782\n",
       "4     B1_T5-PAWS    0.906927\n",
       "5   B2_BART-Para    0.835142\n",
       "6  B2_DistilBART    0.789992\n",
       "7     B2_T5-PAWS    0.828504"
      ]
     },
     "metadata": {},
     "output_type": "display_data"
    },
    {
     "data": {
      "text/html": [
       "<div>\n",
       "<style scoped>\n",
       "    .dataframe tbody tr th:only-of-type {\n",
       "        vertical-align: middle;\n",
       "    }\n",
       "\n",
       "    .dataframe tbody tr th {\n",
       "        vertical-align: top;\n",
       "    }\n",
       "\n",
       "    .dataframe thead th {\n",
       "        text-align: right;\n",
       "    }\n",
       "</style>\n",
       "<table border=\"1\" class=\"dataframe\">\n",
       "  <thead>\n",
       "    <tr style=\"text-align: right;\">\n",
       "      <th></th>\n",
       "      <th>Pair_Label</th>\n",
       "      <th>Position</th>\n",
       "      <th>Word1</th>\n",
       "      <th>Word2</th>\n",
       "      <th>Cosine</th>\n",
       "    </tr>\n",
       "  </thead>\n",
       "  <tbody>\n",
       "    <tr>\n",
       "      <th>0</th>\n",
       "      <td>A_S1</td>\n",
       "      <td>1</td>\n",
       "      <td>hope</td>\n",
       "      <td>i</td>\n",
       "      <td>0.8412</td>\n",
       "    </tr>\n",
       "    <tr>\n",
       "      <th>1</th>\n",
       "      <td>A_S1</td>\n",
       "      <td>2</td>\n",
       "      <td>you</td>\n",
       "      <td>sincerely</td>\n",
       "      <td>0.8199</td>\n",
       "    </tr>\n",
       "    <tr>\n",
       "      <th>2</th>\n",
       "      <td>A_S1</td>\n",
       "      <td>3</td>\n",
       "      <td>too</td>\n",
       "      <td>hope</td>\n",
       "      <td>0.8199</td>\n",
       "    </tr>\n",
       "    <tr>\n",
       "      <th>3</th>\n",
       "      <td>A_S1</td>\n",
       "      <td>4</td>\n",
       "      <td>to</td>\n",
       "      <td>youre</td>\n",
       "      <td>0.6829</td>\n",
       "    </tr>\n",
       "    <tr>\n",
       "      <th>4</th>\n",
       "      <td>A_S1</td>\n",
       "      <td>5</td>\n",
       "      <td>enjoy</td>\n",
       "      <td>enjoying</td>\n",
       "      <td>0.9382</td>\n",
       "    </tr>\n",
       "    <tr>\n",
       "      <th>5</th>\n",
       "      <td>A_S1</td>\n",
       "      <td>6</td>\n",
       "      <td>it</td>\n",
       "      <td>it</td>\n",
       "      <td>1.0000</td>\n",
       "    </tr>\n",
       "    <tr>\n",
       "      <th>6</th>\n",
       "      <td>A_S1</td>\n",
       "      <td>7</td>\n",
       "      <td>as</td>\n",
       "      <td>just</td>\n",
       "      <td>0.8523</td>\n",
       "    </tr>\n",
       "    <tr>\n",
       "      <th>7</th>\n",
       "      <td>A_S1</td>\n",
       "      <td>8</td>\n",
       "      <td>my</td>\n",
       "      <td>as</td>\n",
       "      <td>0.8828</td>\n",
       "    </tr>\n",
       "    <tr>\n",
       "      <th>8</th>\n",
       "      <td>A_S1</td>\n",
       "      <td>9</td>\n",
       "      <td>deepest</td>\n",
       "      <td>much</td>\n",
       "      <td>0.8732</td>\n",
       "    </tr>\n",
       "    <tr>\n",
       "      <th>9</th>\n",
       "      <td>A_S1</td>\n",
       "      <td>10</td>\n",
       "      <td>wishes</td>\n",
       "      <td>as</td>\n",
       "      <td>0.8614</td>\n",
       "    </tr>\n",
       "  </tbody>\n",
       "</table>\n",
       "</div>"
      ],
      "text/plain": [
       "  Pair_Label  Position    Word1      Word2  Cosine\n",
       "0       A_S1         1     hope          i  0.8412\n",
       "1       A_S1         2      you  sincerely  0.8199\n",
       "2       A_S1         3      too       hope  0.8199\n",
       "3       A_S1         4       to      youre  0.6829\n",
       "4       A_S1         5    enjoy   enjoying  0.9382\n",
       "5       A_S1         6       it         it  1.0000\n",
       "6       A_S1         7       as       just  0.8523\n",
       "7       A_S1         8       my         as  0.8828\n",
       "8       A_S1         9  deepest       much  0.8732\n",
       "9       A_S1        10   wishes         as  0.8614"
      ]
     },
     "metadata": {},
     "output_type": "display_data"
    }
   ],
   "source": [
    "summary = df_all.groupby(\"Pair_Label\")[\"Cosine\"] \\\n",
    "                .mean().reset_index(name=\"Avg_Cosine\")\n",
    "display(summary)\n",
    "\n",
    "# Δείγμα 10 πρώτων γραμμών για έλεγχο\n",
    "display(df_all.head(10))"
   ]
  },
  {
   "cell_type": "markdown",
   "id": "8808837e",
   "metadata": {},
   "source": [
    "Φτιάχνουμε custom ροή βασισμένη σε Named-Entity Recognition (NER) και θα δούμε πως αλλάζει το κείμενο μετά την παράφραση.\n",
    "\n",
    "1. Φόρτωση NER pipeline\n",
    "\n",
    "2. Ανίχνευση οντοτήτων σε κάθε original–paraphrase ζεύγος\n",
    "\n",
    "3. Masking: αντικατάσταση κάθε οντότητας με το tag της (π.χ. [PERSON], [ORG])\n",
    "\n",
    "4. Σύγκριση masked κειμένων: δείχνουμε original vs paraphrase με entities αντικατεστημένα\n",
    "\n",
    "Με αυτό βλέπουμε αν οι παραφράσεις διατηρούν τη δομή των οντοτήτων"
   ]
  },
  {
   "cell_type": "markdown",
   "id": "6a55583e",
   "metadata": {},
   "source": [
    "Cell X – Setup NER pipeline"
   ]
  },
  {
   "cell_type": "code",
   "execution_count": 21,
   "id": "4d0de7ff",
   "metadata": {},
   "outputs": [
    {
     "name": "stderr",
     "output_type": "stream",
     "text": [
      "No model was supplied, defaulted to dbmdz/bert-large-cased-finetuned-conll03-english and revision 4c53496 (https://huggingface.co/dbmdz/bert-large-cased-finetuned-conll03-english).\n",
      "Using a pipeline without specifying a model name and revision in production is not recommended.\n",
      "Some weights of the model checkpoint at dbmdz/bert-large-cased-finetuned-conll03-english were not used when initializing BertForTokenClassification: ['bert.pooler.dense.bias', 'bert.pooler.dense.weight']\n",
      "- This IS expected if you are initializing BertForTokenClassification from the checkpoint of a model trained on another task or with another architecture (e.g. initializing a BertForSequenceClassification model from a BertForPreTraining model).\n",
      "- This IS NOT expected if you are initializing BertForTokenClassification from the checkpoint of a model that you expect to be exactly identical (initializing a BertForSequenceClassification model from a BertForSequenceClassification model).\n",
      "Device set to use cpu\n"
     ]
    }
   ],
   "source": [
    "from transformers import pipeline\n",
    "\n",
    "# 1) Φόρτωση του NER pipeline με aggressive aggregation\n",
    "ner = pipeline(\"ner\", aggregation_strategy=\"simple\")"
   ]
  },
  {
   "cell_type": "markdown",
   "id": "61ed4c3a",
   "metadata": {},
   "source": [
    "Cell Y – NER-masking function & εφαρμογή σε όλα τα ζεύγη"
   ]
  },
  {
   "cell_type": "code",
   "execution_count": 22,
   "id": "c5297949",
   "metadata": {},
   "outputs": [
    {
     "name": "stderr",
     "output_type": "stream",
     "text": [
      "c:\\Users\\marko\\anaconda3\\envs\\nlp_proj\\Lib\\site-packages\\torch\\nn\\modules\\module.py:1762: FutureWarning: `encoder_attention_mask` is deprecated and will be removed in version 4.55.0 for `BertSdpaSelfAttention.forward`.\n",
      "  return forward_call(*args, **kwargs)\n"
     ]
    },
    {
     "data": {
      "text/html": [
       "<div>\n",
       "<style scoped>\n",
       "    .dataframe tbody tr th:only-of-type {\n",
       "        vertical-align: middle;\n",
       "    }\n",
       "\n",
       "    .dataframe tbody tr th {\n",
       "        vertical-align: top;\n",
       "    }\n",
       "\n",
       "    .dataframe thead th {\n",
       "        text-align: right;\n",
       "    }\n",
       "</style>\n",
       "<table border=\"1\" class=\"dataframe\">\n",
       "  <thead>\n",
       "    <tr style=\"text-align: right;\">\n",
       "      <th></th>\n",
       "      <th>Version</th>\n",
       "      <th>Masked Text</th>\n",
       "    </tr>\n",
       "  </thead>\n",
       "  <tbody>\n",
       "    <tr>\n",
       "      <th>0</th>\n",
       "      <td>Original</td>\n",
       "      <td>\\nToday is our dragon boat festival, in our [M...</td>\n",
       "    </tr>\n",
       "    <tr>\n",
       "      <th>1</th>\n",
       "      <td>Paraphrase</td>\n",
       "      <td>Today is our dragon boat festival in our [MISC...</td>\n",
       "    </tr>\n",
       "  </tbody>\n",
       "</table>\n",
       "</div>"
      ],
      "text/plain": [
       "      Version                                        Masked Text\n",
       "0    Original  \\nToday is our dragon boat festival, in our [M...\n",
       "1  Paraphrase  Today is our dragon boat festival in our [MISC..."
      ]
     },
     "metadata": {},
     "output_type": "display_data"
    }
   ],
   "source": [
    "import re\n",
    "import pandas as pd\n",
    "\n",
    "def mask_entities(text):\n",
    "    entities = ner(text)\n",
    "    masked = text\n",
    "    # αντικαθιστούμε κάθε span με το tag του είδους της οντότητας\n",
    "    for ent in entities:\n",
    "        span = re.escape(ent[\"word\"])\n",
    "        tag  = f\"[{ent['entity_group']}]\"\n",
    "        masked = re.sub(span, tag, masked)\n",
    "    return masked\n",
    "\n",
    "# Επιλέγουμε ένα ζεύγος για παράδειγμα, π.χ. B1_T5-PAWS\n",
    "label, (orig, para) = next(((l, p) for l,p in pairs.items() if l.startswith(\"B1_T5-PAWS\")), None)\n",
    "\n",
    "orig_masked = mask_entities(orig)\n",
    "para_masked = mask_entities(para)\n",
    "\n",
    "# Εμφάνιση σε DataFrame\n",
    "df_ner = pd.DataFrame([\n",
    "    {\"Version\": \"Original\",  \"Masked Text\": orig_masked[:200] + \"...\"},\n",
    "    {\"Version\": \"Paraphrase\", \"Masked Text\": para_masked[:200] + \"...\"},\n",
    "])\n",
    "display(df_ner)\n"
   ]
  },
  {
   "cell_type": "markdown",
   "id": "15c470db",
   "metadata": {},
   "source": [
    "### Εφαρμογή σε όλα τα ζεύγη και ποσοτικοποίηση\n",
    "Θα τρέξουμε το NER masking για όλα τα ζεύγη (1.A & 1.B) και θα συγκρίνουμε:\n",
    "\n",
    "- Πόσες οντότητες εντοπίζει στο original vs. στο paraphrase\n",
    "\n",
    "- Πόσες οντότητες διατηρούνται (ίδιο entity span & tag)"
   ]
  },
  {
   "cell_type": "code",
   "execution_count": 23,
   "id": "718dd627",
   "metadata": {},
   "outputs": [
    {
     "name": "stderr",
     "output_type": "stream",
     "text": [
      "c:\\Users\\marko\\anaconda3\\envs\\nlp_proj\\Lib\\site-packages\\torch\\nn\\modules\\module.py:1762: FutureWarning: `encoder_attention_mask` is deprecated and will be removed in version 4.55.0 for `BertSdpaSelfAttention.forward`.\n",
      "  return forward_call(*args, **kwargs)\n"
     ]
    },
    {
     "data": {
      "text/html": [
       "<div>\n",
       "<style scoped>\n",
       "    .dataframe tbody tr th:only-of-type {\n",
       "        vertical-align: middle;\n",
       "    }\n",
       "\n",
       "    .dataframe tbody tr th {\n",
       "        vertical-align: top;\n",
       "    }\n",
       "\n",
       "    .dataframe thead th {\n",
       "        text-align: right;\n",
       "    }\n",
       "</style>\n",
       "<table border=\"1\" class=\"dataframe\">\n",
       "  <thead>\n",
       "    <tr style=\"text-align: right;\">\n",
       "      <th></th>\n",
       "      <th>Pair</th>\n",
       "      <th>Orig_Count</th>\n",
       "      <th>Para_Count</th>\n",
       "      <th>Preserved</th>\n",
       "      <th>Preserved_Rate</th>\n",
       "    </tr>\n",
       "  </thead>\n",
       "  <tbody>\n",
       "    <tr>\n",
       "      <th>0</th>\n",
       "      <td>A_S1</td>\n",
       "      <td>0</td>\n",
       "      <td>0</td>\n",
       "      <td>0</td>\n",
       "      <td>0.0</td>\n",
       "    </tr>\n",
       "    <tr>\n",
       "      <th>1</th>\n",
       "      <td>A_S2</td>\n",
       "      <td>0</td>\n",
       "      <td>0</td>\n",
       "      <td>0</td>\n",
       "      <td>0.0</td>\n",
       "    </tr>\n",
       "    <tr>\n",
       "      <th>2</th>\n",
       "      <td>B1_T5-PAWS</td>\n",
       "      <td>2</td>\n",
       "      <td>2</td>\n",
       "      <td>2</td>\n",
       "      <td>1.0</td>\n",
       "    </tr>\n",
       "    <tr>\n",
       "      <th>3</th>\n",
       "      <td>B1_BART-Para</td>\n",
       "      <td>2</td>\n",
       "      <td>2</td>\n",
       "      <td>2</td>\n",
       "      <td>1.0</td>\n",
       "    </tr>\n",
       "    <tr>\n",
       "      <th>4</th>\n",
       "      <td>B1_DistilBART</td>\n",
       "      <td>2</td>\n",
       "      <td>1</td>\n",
       "      <td>1</td>\n",
       "      <td>0.5</td>\n",
       "    </tr>\n",
       "    <tr>\n",
       "      <th>5</th>\n",
       "      <td>B2_T5-PAWS</td>\n",
       "      <td>1</td>\n",
       "      <td>1</td>\n",
       "      <td>1</td>\n",
       "      <td>1.0</td>\n",
       "    </tr>\n",
       "    <tr>\n",
       "      <th>6</th>\n",
       "      <td>B2_BART-Para</td>\n",
       "      <td>1</td>\n",
       "      <td>1</td>\n",
       "      <td>1</td>\n",
       "      <td>1.0</td>\n",
       "    </tr>\n",
       "    <tr>\n",
       "      <th>7</th>\n",
       "      <td>B2_DistilBART</td>\n",
       "      <td>1</td>\n",
       "      <td>1</td>\n",
       "      <td>1</td>\n",
       "      <td>1.0</td>\n",
       "    </tr>\n",
       "  </tbody>\n",
       "</table>\n",
       "</div>"
      ],
      "text/plain": [
       "            Pair  Orig_Count  Para_Count  Preserved  Preserved_Rate\n",
       "0           A_S1           0           0          0             0.0\n",
       "1           A_S2           0           0          0             0.0\n",
       "2     B1_T5-PAWS           2           2          2             1.0\n",
       "3   B1_BART-Para           2           2          2             1.0\n",
       "4  B1_DistilBART           2           1          1             0.5\n",
       "5     B2_T5-PAWS           1           1          1             1.0\n",
       "6   B2_BART-Para           1           1          1             1.0\n",
       "7  B2_DistilBART           1           1          1             1.0"
      ]
     },
     "metadata": {},
     "output_type": "display_data"
    }
   ],
   "source": [
    "import re\n",
    "import pandas as pd\n",
    "\n",
    "# Υπάρχον ner pipeline\n",
    "# ner = pipeline(\"ner\", aggregation_strategy=\"simple\")\n",
    "\n",
    "def mask_entities_list(text):\n",
    "    ents = ner(text)\n",
    "    # Επιστρέφουμε λίστα από (span, tag)\n",
    "    return [(ent[\"word\"], ent[\"entity_group\"]) for ent in ents]\n",
    "\n",
    "def compute_ner_stats(orig, para):\n",
    "    orig_ents = mask_entities_list(orig)\n",
    "    para_ents = mask_entities_list(para)\n",
    "    # Συμφωνία span+tag\n",
    "    preserved = set(orig_ents) & set(para_ents)\n",
    "    return {\n",
    "        \"Orig_Count\": len(orig_ents),\n",
    "        \"Para_Count\": len(para_ents),\n",
    "        \"Preserved\": len(preserved),\n",
    "        \"Preserved_Rate\": round(len(preserved) / len(orig_ents) if orig_ents else 0, 4)\n",
    "    }\n",
    "\n",
    "# Εφαρμογή σε όλα τα ζεύγη\n",
    "stats = []\n",
    "for label, (orig, para) in pairs.items():\n",
    "    s = compute_ner_stats(orig, para)\n",
    "    s[\"Pair\"] = label\n",
    "    stats.append(s)\n",
    "\n",
    "df_stats = pd.DataFrame(stats)[[\"Pair\", \"Orig_Count\", \"Para_Count\", \"Preserved\", \"Preserved_Rate\"]]\n",
    "display(df_stats)\n"
   ]
  },
  {
   "cell_type": "markdown",
   "id": "87b113e4",
   "metadata": {},
   "source": [
    "Στη συνέχεια υλοποιούμε POS-filtering ώστε να κρατάμε μόνο τα κύρια ουσιαστικά και τα ρήματα από κάθε κείμενο, και να συγκρίνουμε πια λέξη‐level overlap πριν/μετά."
   ]
  },
  {
   "cell_type": "markdown",
   "id": "f47bdea2",
   "metadata": {},
   "source": [
    "1. Cell X – Φόρτωση spaCy και helper για POS‐filtering"
   ]
  },
  {
   "cell_type": "code",
   "execution_count": 24,
   "id": "44cceeee",
   "metadata": {},
   "outputs": [],
   "source": [
    "import spacy\n",
    "\n",
    "# Φορτώνουμε το μικρό μοντέλο Αγγλικών\n",
    "nlp = spacy.load(\"en_core_web_sm\")\n",
    "\n",
    "def filter_nouns_verbs(text: str):\n",
    "    \"\"\"\n",
    "    Επιστρέφει λίστα tokens που είναι είτε NOUN είτε VERB.\n",
    "    \"\"\"\n",
    "    doc = nlp(text)\n",
    "    return [token.text for token in doc if token.pos_ in {\"NOUN\", \"VERB\"}]\n"
   ]
  },
  {
   "cell_type": "markdown",
   "id": "5879aa92",
   "metadata": {},
   "source": [
    "2. Cell Y – Εφαρμογή σε όλα τα ζεύγη και μέτρηση overlap"
   ]
  },
  {
   "cell_type": "code",
   "execution_count": 25,
   "id": "299e1d0f",
   "metadata": {},
   "outputs": [
    {
     "data": {
      "text/html": [
       "<div>\n",
       "<style scoped>\n",
       "    .dataframe tbody tr th:only-of-type {\n",
       "        vertical-align: middle;\n",
       "    }\n",
       "\n",
       "    .dataframe tbody tr th {\n",
       "        vertical-align: top;\n",
       "    }\n",
       "\n",
       "    .dataframe thead th {\n",
       "        text-align: right;\n",
       "    }\n",
       "</style>\n",
       "<table border=\"1\" class=\"dataframe\">\n",
       "  <thead>\n",
       "    <tr style=\"text-align: right;\">\n",
       "      <th></th>\n",
       "      <th>Pair</th>\n",
       "      <th>Orig_NounsVerbs</th>\n",
       "      <th>Para_NounsVerbs</th>\n",
       "      <th>Overlap</th>\n",
       "      <th>Jaccard</th>\n",
       "    </tr>\n",
       "  </thead>\n",
       "  <tbody>\n",
       "    <tr>\n",
       "      <th>0</th>\n",
       "      <td>A_S1</td>\n",
       "      <td>3</td>\n",
       "      <td>3</td>\n",
       "      <td>0</td>\n",
       "      <td>0.0000</td>\n",
       "    </tr>\n",
       "    <tr>\n",
       "      <th>1</th>\n",
       "      <td>A_S2</td>\n",
       "      <td>5</td>\n",
       "      <td>4</td>\n",
       "      <td>0</td>\n",
       "      <td>0.0000</td>\n",
       "    </tr>\n",
       "    <tr>\n",
       "      <th>2</th>\n",
       "      <td>B1_T5-PAWS</td>\n",
       "      <td>28</td>\n",
       "      <td>19</td>\n",
       "      <td>19</td>\n",
       "      <td>0.6786</td>\n",
       "    </tr>\n",
       "    <tr>\n",
       "      <th>3</th>\n",
       "      <td>B1_BART-Para</td>\n",
       "      <td>28</td>\n",
       "      <td>11</td>\n",
       "      <td>10</td>\n",
       "      <td>0.3448</td>\n",
       "    </tr>\n",
       "    <tr>\n",
       "      <th>4</th>\n",
       "      <td>B1_DistilBART</td>\n",
       "      <td>28</td>\n",
       "      <td>14</td>\n",
       "      <td>11</td>\n",
       "      <td>0.3548</td>\n",
       "    </tr>\n",
       "    <tr>\n",
       "      <th>5</th>\n",
       "      <td>B2_T5-PAWS</td>\n",
       "      <td>44</td>\n",
       "      <td>30</td>\n",
       "      <td>27</td>\n",
       "      <td>0.5745</td>\n",
       "    </tr>\n",
       "    <tr>\n",
       "      <th>6</th>\n",
       "      <td>B2_BART-Para</td>\n",
       "      <td>44</td>\n",
       "      <td>18</td>\n",
       "      <td>18</td>\n",
       "      <td>0.4091</td>\n",
       "    </tr>\n",
       "    <tr>\n",
       "      <th>7</th>\n",
       "      <td>B2_DistilBART</td>\n",
       "      <td>44</td>\n",
       "      <td>24</td>\n",
       "      <td>24</td>\n",
       "      <td>0.5455</td>\n",
       "    </tr>\n",
       "  </tbody>\n",
       "</table>\n",
       "</div>"
      ],
      "text/plain": [
       "            Pair  Orig_NounsVerbs  Para_NounsVerbs  Overlap  Jaccard\n",
       "0           A_S1                3                3        0   0.0000\n",
       "1           A_S2                5                4        0   0.0000\n",
       "2     B1_T5-PAWS               28               19       19   0.6786\n",
       "3   B1_BART-Para               28               11       10   0.3448\n",
       "4  B1_DistilBART               28               14       11   0.3548\n",
       "5     B2_T5-PAWS               44               30       27   0.5745\n",
       "6   B2_BART-Para               44               18       18   0.4091\n",
       "7  B2_DistilBART               44               24       24   0.5455"
      ]
     },
     "metadata": {},
     "output_type": "display_data"
    }
   ],
   "source": [
    "import pandas as pd\n",
    "\n",
    "stats = []\n",
    "for label, (orig, para) in pairs.items():\n",
    "    orig_filt = set(filter_nouns_verbs(orig))\n",
    "    para_filt = set(filter_nouns_verbs(para))\n",
    "    # Jaccard similarity ως μέτρο overlap\n",
    "    inter = orig_filt & para_filt\n",
    "    union = orig_filt | para_filt\n",
    "    jaccard = len(inter) / len(union) if union else 0.0\n",
    "    stats.append({\n",
    "        \"Pair\":         label,\n",
    "        \"Orig_NounsVerbs\": len(orig_filt),\n",
    "        \"Para_NounsVerbs\": len(para_filt),\n",
    "        \"Overlap\":      len(inter),\n",
    "        \"Jaccard\":      round(jaccard, 4)\n",
    "    })\n",
    "\n",
    "df_pos = pd.DataFrame(stats)\n",
    "display(df_pos)\n"
   ]
  },
  {
   "cell_type": "markdown",
   "id": "0e1d4a6f",
   "metadata": {},
   "source": [
    "Υπολογίζουμε WordNet‐based similarity:"
   ]
  },
  {
   "cell_type": "code",
   "execution_count": 26,
   "id": "fa5d6b39",
   "metadata": {},
   "outputs": [
    {
     "name": "stderr",
     "output_type": "stream",
     "text": [
      "[nltk_data] Downloading package wordnet to\n",
      "[nltk_data]     C:\\Users\\marko\\AppData\\Roaming\\nltk_data...\n",
      "[nltk_data]   Package wordnet is already up-to-date!\n",
      "[nltk_data] Downloading package omw-1.4 to\n",
      "[nltk_data]     C:\\Users\\marko\\AppData\\Roaming\\nltk_data...\n",
      "[nltk_data]   Package omw-1.4 is already up-to-date!\n"
     ]
    },
    {
     "data": {
      "text/plain": [
       "True"
      ]
     },
     "execution_count": 26,
     "metadata": {},
     "output_type": "execute_result"
    }
   ],
   "source": [
    "import nltk\n",
    "nltk.download('wordnet')\n",
    "nltk.download('omw-1.4')\n"
   ]
  },
  {
   "cell_type": "code",
   "execution_count": 27,
   "id": "ecb2616c",
   "metadata": {},
   "outputs": [
    {
     "data": {
      "text/html": [
       "<div>\n",
       "<style scoped>\n",
       "    .dataframe tbody tr th:only-of-type {\n",
       "        vertical-align: middle;\n",
       "    }\n",
       "\n",
       "    .dataframe tbody tr th {\n",
       "        vertical-align: top;\n",
       "    }\n",
       "\n",
       "    .dataframe thead th {\n",
       "        text-align: right;\n",
       "    }\n",
       "</style>\n",
       "<table border=\"1\" class=\"dataframe\">\n",
       "  <thead>\n",
       "    <tr style=\"text-align: right;\">\n",
       "      <th></th>\n",
       "      <th>Pair</th>\n",
       "      <th>Avg_WordNet_Sim</th>\n",
       "    </tr>\n",
       "  </thead>\n",
       "  <tbody>\n",
       "    <tr>\n",
       "      <th>0</th>\n",
       "      <td>A_S1</td>\n",
       "      <td>0.3417</td>\n",
       "    </tr>\n",
       "    <tr>\n",
       "      <th>1</th>\n",
       "      <td>A_S2</td>\n",
       "      <td>0.0670</td>\n",
       "    </tr>\n",
       "    <tr>\n",
       "      <th>2</th>\n",
       "      <td>B1_T5-PAWS</td>\n",
       "      <td>0.3858</td>\n",
       "    </tr>\n",
       "    <tr>\n",
       "      <th>3</th>\n",
       "      <td>B1_BART-Para</td>\n",
       "      <td>0.4555</td>\n",
       "    </tr>\n",
       "    <tr>\n",
       "      <th>4</th>\n",
       "      <td>B1_DistilBART</td>\n",
       "      <td>0.4966</td>\n",
       "    </tr>\n",
       "    <tr>\n",
       "      <th>5</th>\n",
       "      <td>B2_T5-PAWS</td>\n",
       "      <td>0.1990</td>\n",
       "    </tr>\n",
       "    <tr>\n",
       "      <th>6</th>\n",
       "      <td>B2_BART-Para</td>\n",
       "      <td>0.1969</td>\n",
       "    </tr>\n",
       "    <tr>\n",
       "      <th>7</th>\n",
       "      <td>B2_DistilBART</td>\n",
       "      <td>0.1294</td>\n",
       "    </tr>\n",
       "  </tbody>\n",
       "</table>\n",
       "</div>"
      ],
      "text/plain": [
       "            Pair  Avg_WordNet_Sim\n",
       "0           A_S1           0.3417\n",
       "1           A_S2           0.0670\n",
       "2     B1_T5-PAWS           0.3858\n",
       "3   B1_BART-Para           0.4555\n",
       "4  B1_DistilBART           0.4966\n",
       "5     B2_T5-PAWS           0.1990\n",
       "6   B2_BART-Para           0.1969\n",
       "7  B2_DistilBART           0.1294"
      ]
     },
     "metadata": {},
     "output_type": "display_data"
    }
   ],
   "source": [
    "from nltk.corpus import wordnet as wn\n",
    "import pandas as pd\n",
    "import string\n",
    "\n",
    "# Preprocessing (όπως πριν)\n",
    "def preprocess(text):\n",
    "    t = text.lower().replace(\"’\", \"'\")\n",
    "    t = t.translate(str.maketrans(\"\", \"\", string.punctuation))\n",
    "    return t.split()\n",
    "\n",
    "# WordNet-based similarity για ένα ζεύγος λέξεων\n",
    "def wordnet_similarity(w1, w2):\n",
    "    syn1 = wn.synsets(w1)\n",
    "    syn2 = wn.synsets(w2)\n",
    "    if not syn1 or not syn2:\n",
    "        return 0.0\n",
    "    # Μέγιστη path_similarity\n",
    "    max_sim = max((s1.path_similarity(s2) or 0) for s1 in syn1 for s2 in syn2)\n",
    "    return round(max_sim, 4)\n",
    "\n",
    "# Υπολογισμός μέσου όρου similarity για κάθε ζεύγος\n",
    "results_wn = []\n",
    "for label, (orig, para) in pairs.items():\n",
    "    o_toks = preprocess(orig)\n",
    "    p_toks = preprocess(para)\n",
    "    sims = [wordnet_similarity(w1, w2) for w1, w2 in zip(o_toks, p_toks)]\n",
    "    avg_sim = round(sum(sims) / len(sims), 4) if sims else 0.0\n",
    "    results_wn.append({\"Pair\": label, \"Avg_WordNet_Sim\": avg_sim})\n",
    "\n",
    "df_wn = pd.DataFrame(results_wn)\n",
    "display(df_wn)\n"
   ]
  },
  {
   "cell_type": "markdown",
   "id": "9dffd7e1",
   "metadata": {},
   "source": [
    "### Οπτικοποίηση με PCA και t-SNE"
   ]
  },
  {
   "cell_type": "code",
   "execution_count": 28,
   "id": "ad5f732f",
   "metadata": {},
   "outputs": [
    {
     "name": "stderr",
     "output_type": "stream",
     "text": [
      "c:\\Users\\marko\\anaconda3\\envs\\nlp_proj\\Lib\\site-packages\\torch\\nn\\modules\\module.py:1762: FutureWarning: `encoder_attention_mask` is deprecated and will be removed in version 4.55.0 for `BertSdpaSelfAttention.forward`.\n",
      "  return forward_call(*args, **kwargs)\n"
     ]
    },
    {
     "data": {
      "image/png": "[encoded data removed]",
      "text/plain": [
       "<Figure size 1000x800 with 1 Axes>"
      ]
     },
     "metadata": {},
     "output_type": "display_data"
    }
   ],
   "source": [
    "import matplotlib.pyplot as plt\n",
    "from sklearn.decomposition import PCA\n",
    "from sentence_transformers import SentenceTransformer\n",
    "\n",
    "# 1) Ορισμός όλων των κειμένων (A & B)\n",
    "texts = {\n",
    "    \"A_Orig_S1\": pairs[\"A_S1\"][0],\n",
    "    \"A_Para_S1\": pairs[\"A_S1\"][1],\n",
    "    \"A_Orig_S2\": pairs[\"A_S2\"][0],\n",
    "    \"A_Para_S2\": pairs[\"A_S2\"][1],\n",
    "    \"B1_Orig\":     text1,\n",
    "    \"B1_T5-PAWS\":  results[(\"T5-PAWS\",\"Text1\")],\n",
    "    \"B1_BART-Para\":results[(\"BART-Para\",\"Text1\")],\n",
    "    \"B1_Distil\":  results[(\"DistilBART-Sum\",\"Text1\")],\n",
    "    \"B2_Orig\":     text2,\n",
    "    \"B2_T5-PAWS\":  results[(\"T5-PAWS\",\"Text2\")],\n",
    "    \"B2_BART-Para\":results[(\"BART-Para\",\"Text2\")],\n",
    "    \"B2_Distil\":  results[(\"DistilBART-Sum\",\"Text2\")],\n",
    "}\n",
    "\n",
    "# 2) Φόρτωση embedder\n",
    "model = SentenceTransformer(\"all-MiniLM-L6-v2\")\n",
    "labels = list(texts.keys())\n",
    "embs = model.encode(list(texts.values()))\n",
    "\n",
    "# 3) PCA σε 2 διαστάσεις\n",
    "pca = PCA(n_components=2)\n",
    "coords = pca.fit_transform(embs)\n",
    "\n",
    "# 4) Σχεδίαση\n",
    "plt.figure(figsize=(10,8))\n",
    "for lbl, (x,y) in zip(labels, coords):\n",
    "    plt.scatter(x, y)\n",
    "    plt.text(x+0.01, y+0.01, lbl, fontsize=8)\n",
    "plt.title(\"PCA: Original vs Paraphrased Embeddings\")\n",
    "plt.xlabel(\"PC1\"); plt.ylabel(\"PC2\")\n",
    "plt.show()\n"
   ]
  },
  {
   "cell_type": "code",
   "execution_count": 29,
   "id": "ed85b388",
   "metadata": {},
   "outputs": [
    {
     "name": "stderr",
     "output_type": "stream",
     "text": [
      "c:\\Users\\marko\\anaconda3\\envs\\nlp_proj\\Lib\\site-packages\\torch\\nn\\modules\\module.py:1762: FutureWarning: `encoder_attention_mask` is deprecated and will be removed in version 4.55.0 for `BertSdpaSelfAttention.forward`.\n",
      "  return forward_call(*args, **kwargs)\n"
     ]
    },
    {
     "data": {
      "image/png": "[encoded data removed]",
      "text/plain": [
       "<Figure size 1000x800 with 1 Axes>"
      ]
     },
     "metadata": {},
     "output_type": "display_data"
    }
   ],
   "source": [
    "from sklearn.manifold import TSNE\n",
    "import matplotlib.pyplot as plt\n",
    "from sentence_transformers import SentenceTransformer\n",
    "\n",
    "# 1) Όπως πριν: texts, embedder\n",
    "texts = {\n",
    "    \"A_Orig_S1\": pairs[\"A_S1\"][0],\n",
    "    \"A_Para_S1\": pairs[\"A_S1\"][1],\n",
    "    \"A_Orig_S2\": pairs[\"A_S2\"][0],\n",
    "    \"A_Para_S2\": pairs[\"A_S2\"][1],\n",
    "    \"B1_Orig\":     text1,\n",
    "    \"B1_T5-PAWS\":  results[(\"T5-PAWS\",\"Text1\")],\n",
    "    \"B1_BART-Para\":results[(\"BART-Para\",\"Text1\")],\n",
    "    \"B1_Distil\":   results[(\"DistilBART-Sum\",\"Text1\")],\n",
    "    \"B2_Orig\":     text2,\n",
    "    \"B2_T5-PAWS\":  results[(\"T5-PAWS\",\"Text2\")],\n",
    "    \"B2_BART-Para\":results[(\"BART-Para\",\"Text2\")],\n",
    "    \"B2_Distil\":   results[(\"DistilBART-Sum\",\"Text2\")],\n",
    "}\n",
    "\n",
    "model = SentenceTransformer(\"all-MiniLM-L6-v2\")\n",
    "labels = list(texts.keys())\n",
    "embs = model.encode(list(texts.values()))\n",
    "\n",
    "# 2) t-SNE με μικρότερη perplexity\n",
    "tsne = TSNE(\n",
    "    n_components=2,\n",
    "    random_state=42,\n",
    "    init=\"pca\",\n",
    "    learning_rate=\"auto\",\n",
    "    perplexity=5  # πρέπει <12\n",
    ")\n",
    "coords_tsne = tsne.fit_transform(embs)\n",
    "\n",
    "# 3) Σχεδίαση\n",
    "plt.figure(figsize=(10, 8))\n",
    "for lbl, (x, y) in zip(labels, coords_tsne):\n",
    "    plt.scatter(x, y, s=50)\n",
    "    plt.text(x + 1, y + 1, lbl, fontsize=9)\n",
    "plt.title(\"t-SNE: Original vs Paraphrased Embeddings (perplexity=5)\", fontsize=14)\n",
    "plt.xlabel(\"Dim 1\", fontsize=12)\n",
    "plt.ylabel(\"Dim 2\", fontsize=12)\n",
    "plt.grid(alpha=0.2)\n",
    "plt.tight_layout()\n",
    "plt.show()\n"
   ]
  }
 ],
 "metadata": {
  "kernelspec": {
   "display_name": "nlp_proj",
   "language": "python",
   "name": "python3"
  },
  "language_info": {
   "codemirror_mode": {
    "name": "ipython",
    "version": 3
   },
   "file_extension": ".py",
   "mimetype": "text/x-python",
   "name": "python",
   "nbconvert_exporter": "python",
   "pygments_lexer": "ipython3",
   "version": "3.11.13"
  }
 },
 "nbformat": 4,
 "nbformat_minor": 5
}
